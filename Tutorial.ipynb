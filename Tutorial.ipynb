{
 "cells": [
  {
   "cell_type": "markdown",
   "metadata": {},
   "source": [
    "# AIOKraken Tutorial\n",
    "For more information, please check http://github.com/asmodehn/aiokraken\n"
   ]
  },
  {
   "cell_type": "code",
   "execution_count": 1,
   "metadata": {},
   "outputs": [
    {
     "name": "stdout",
     "output_type": "stream",
     "text": [
      "Obtaining file:///opt/Projects/aiokraken\n",
      "Requirement already satisfied: aiohttp in /home/alexv/.local/share/virtualenvs/aiokraken-bMbyeTfo/lib/python3.7/site-packages (from aiokraken==2.0.0) (3.6.0)\n",
      "Requirement already satisfied: aiodns in /home/alexv/.local/share/virtualenvs/aiokraken-bMbyeTfo/lib/python3.7/site-packages (from aiokraken==2.0.0) (2.0.0)\n",
      "Requirement already satisfied: cchardet in /home/alexv/.local/share/virtualenvs/aiokraken-bMbyeTfo/lib/python3.7/site-packages (from aiokraken==2.0.0) (2.1.4)\n",
      "Requirement already satisfied: chardet<4.0,>=2.0 in /home/alexv/.local/share/virtualenvs/aiokraken-bMbyeTfo/lib/python3.7/site-packages (from aiohttp->aiokraken==2.0.0) (3.0.4)\n",
      "Requirement already satisfied: yarl<2.0,>=1.0 in /home/alexv/.local/share/virtualenvs/aiokraken-bMbyeTfo/lib/python3.7/site-packages (from aiohttp->aiokraken==2.0.0) (1.3.0)\n",
      "Requirement already satisfied: async-timeout<4.0,>=3.0 in /home/alexv/.local/share/virtualenvs/aiokraken-bMbyeTfo/lib/python3.7/site-packages (from aiohttp->aiokraken==2.0.0) (3.0.1)\n",
      "Requirement already satisfied: attrs>=17.3.0 in /home/alexv/.local/share/virtualenvs/aiokraken-bMbyeTfo/lib/python3.7/site-packages (from aiohttp->aiokraken==2.0.0) (19.1.0)\n",
      "Requirement already satisfied: multidict<5.0,>=4.0 in /home/alexv/.local/share/virtualenvs/aiokraken-bMbyeTfo/lib/python3.7/site-packages (from aiohttp->aiokraken==2.0.0) (4.5.2)\n",
      "Requirement already satisfied: pycares>=3.0.0 in /home/alexv/.local/share/virtualenvs/aiokraken-bMbyeTfo/lib/python3.7/site-packages (from aiodns->aiokraken==2.0.0) (3.0.0)\n",
      "Requirement already satisfied: idna>=2.0 in /home/alexv/.local/share/virtualenvs/aiokraken-bMbyeTfo/lib/python3.7/site-packages (from yarl<2.0,>=1.0->aiohttp->aiokraken==2.0.0) (2.8)\n",
      "Requirement already satisfied: cffi>=1.5.0 in /home/alexv/.local/share/virtualenvs/aiokraken-bMbyeTfo/lib/python3.7/site-packages (from pycares>=3.0.0->aiodns->aiokraken==2.0.0) (1.12.3)\n",
      "Requirement already satisfied: pycparser in /home/alexv/.local/share/virtualenvs/aiokraken-bMbyeTfo/lib/python3.7/site-packages (from cffi>=1.5.0->pycares>=3.0.0->aiodns->aiokraken==2.0.0) (2.19)\n",
      "Installing collected packages: aiokraken\n",
      "  Found existing installation: aiokraken 2.0.0\n",
      "    Uninstalling aiokraken-2.0.0:\n",
      "      Successfully uninstalled aiokraken-2.0.0\n",
      "  Running setup.py develop for aiokraken\n",
      "Successfully installed aiokraken\n",
      "\u001b[33mWARNING: You are using pip version 19.2.2, however version 19.2.3 is available.\n",
      "You should consider upgrading via the 'pip install --upgrade pip' command.\u001b[0m\n",
      "Note: you may need to restart the kernel to use updated packages.\n"
     ]
    }
   ],
   "source": [
    "%pip install -e .\n",
    "from aiokraken.rest.client import RestClient\n",
    "from aiokraken.rest.api import Server"
   ]
  },
  {
   "cell_type": "code",
   "execution_count": 2,
   "metadata": {},
   "outputs": [],
   "source": [
    "kraken = RestClient(Server())"
   ]
  },
  {
   "cell_type": "code",
   "execution_count": 3,
   "metadata": {},
   "outputs": [
    {
     "name": "stdout",
     "output_type": "stream",
     "text": [
      "/0/public/Time\n"
     ]
    },
    {
     "data": {
      "text/plain": [
       "Tue Oct  1 15:00:31 2019"
      ]
     },
     "execution_count": 3,
     "metadata": {},
     "output_type": "execute_result"
    }
   ],
   "source": [
    "await kraken.time()"
   ]
  },
  {
   "cell_type": "code",
   "execution_count": 4,
   "metadata": {},
   "outputs": [
    {
     "name": "stdout",
     "output_type": "stream",
     "text": [
      "         time    open    high     low   close    vwap      volume  count\n",
      "0  1569891660  7549.1  7549.6  7549.1  7549.3  7549.3  0.02025415      4\n",
      "1  1569891720  7549.3  7549.4  7549.3  7549.3  7549.3  0.05658091      5\n",
      "2  1569891780  7549.3  7549.3  7546.8  7546.8  7546.8  0.03010246      2\n",
      "3  1569891840  7546.8  7546.8  7543.3  7543.3  7546.2  0.13324434      4\n",
      "4  1569891900  7543.3  7543.3  7542.9  7542.9  7543.2  0.44721395      2\n"
     ]
    }
   ],
   "source": [
    "# polling ohlc\n",
    "ohlc = await kraken.ohlc(pair='XBTEUR')\n",
    "print(ohlc.head())"
   ]
  },
  {
   "cell_type": "code",
   "execution_count": 5,
   "metadata": {},
   "outputs": [
    {
     "data": {
      "text/plain": [
       "<Figure size 864x360 with 0 Axes>"
      ]
     },
     "metadata": {},
     "output_type": "display_data"
    },
    {
     "data": {
      "image/png": "[encoded data removed]",
      "text/plain": [
       "<Figure size 432x288 with 1 Axes>"
      ]
     },
     "metadata": {
      "needs_background": "light"
     },
     "output_type": "display_data"
    }
   ],
   "source": [
    "from IPython.display import clear_output\n",
    "import numpy as np\n",
    "import pandas as pd\n",
    "from matplotlib import pyplot as plt\n",
    "import collections\n",
    "import time\n",
    "import talib\n",
    "import asyncio\n",
    "%matplotlib inline\n",
    "\n",
    "# def live_plot(data_dict, figsize=(7,5), title=''):\n",
    "#     clear_output(wait=True)\n",
    "#     plt.figure(figsize=figsize)\n",
    "#     for label,data in data_dict.items():\n",
    "#         plt.plot(data, label=label)\n",
    "#     plt.title(title)\n",
    "#     plt.grid(True)\n",
    "#     plt.xlabel('epoch')\n",
    "#     plt.legend(loc='center left') # the plot evolves to the right\n",
    "#     plt.show();\n",
    "    \n",
    "#for i in range(10):  # how to interactively stop this ?  DO we even need it ? probably not for REST interface anyway...\n",
    "clear_output(wait=True)\n",
    "plt.figure(figsize=(12,5))\n",
    "\n",
    "ohlc_df = await kraken.ohlc(pair='XBTEUR') #since=ohlc.get('last'))\n",
    "# convert what we want to draw to numeric to please mpl\n",
    "ohlc_df.dataframe.close = pd.to_numeric(ohlc_df.dataframe.close)\n",
    "#ohlc_df.time = pd.to_datetime(ohlc_df.time, unit='s')\n",
    "ohlc_df.dataframe.plot(x='time', y='close') \n",
    "\n",
    "#testing TAlib\n",
    "res = talib.MA(ohlc_df.dataframe.close)\n",
    "#res.plot()\n",
    "\n",
    "plt.legend(loc='center left') # the plot evolves to the right\n",
    "plt.show()\n",
    "\n",
    "time.sleep(10.0)\n",
    "#await asyncio.sleep(10.0)  # careful with rate limits...  # asyncio sleep allows other cells to run !?"
   ]
  },
  {
   "cell_type": "code",
   "execution_count": null,
   "metadata": {},
   "outputs": [],
   "source": [
    "from IPython.display import clear_output\n",
    "import numpy as np\n",
    "from matplotlib import pyplot as plt\n",
    "import collections\n",
    "%matplotlib inline\n",
    "\n",
    "def live_plot(data_dict, figsize=(7,5), title=''):\n",
    "    clear_output(wait=True)\n",
    "    plt.figure(figsize=figsize)\n",
    "    for label,data in data_dict.items():\n",
    "        plt.plot(data, label=label)\n",
    "    plt.title(title)\n",
    "    plt.grid(True)\n",
    "    plt.xlabel('epoch')\n",
    "    plt.legend(loc='center left') # the plot evolves to the right\n",
    "    plt.show();"
   ]
  },
  {
   "cell_type": "code",
   "execution_count": null,
   "metadata": {},
   "outputs": [],
   "source": [
    "import time\n",
    "\n",
    "data = collections.defaultdict(list)\n",
    "for i in range(100):\n",
    "    time.sleep(1.0)\n",
    "    data['foo'].append(np.random.random())\n",
    "    data['bar'].append(np.random.random())\n",
    "    data['baz'].append(np.random.random())\n",
    "    live_plot(data)"
   ]
  },
  {
   "cell_type": "code",
   "execution_count": null,
   "metadata": {},
   "outputs": [],
   "source": []
  }
 ],
 "metadata": {
  "kernelspec": {
   "display_name": "Python 3",
   "language": "python",
   "name": "python3"
  },
  "language_info": {
   "codemirror_mode": {
    "name": "ipython",
    "version": 3
   },
   "file_extension": ".py",
   "mimetype": "text/x-python",
   "name": "python",
   "nbconvert_exporter": "python",
   "pygments_lexer": "ipython3",
   "version": "3.7.3"
  }
 },
 "nbformat": 4,
 "nbformat_minor": 4
}
